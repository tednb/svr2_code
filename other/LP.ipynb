{
 "cells": [
  {
   "cell_type": "code",
   "execution_count": 489,
   "metadata": {},
   "outputs": [],
   "source": [
    "import numpy as np\n",
    "import numpy.matlib\n",
    "from cmath import inf\n",
    "np.set_printoptions(formatter={'all':lambda x: str(Fraction(x).limit_denominator())}) #设置矩阵分数运算"
   ]
  },
  {
   "cell_type": "code",
   "execution_count": 490,
   "metadata": {},
   "outputs": [],
   "source": [
    "#原始模型整理\n",
    "or_c = [2,1] \n",
    "or_b = [15,24]\n",
    "or_a = [3,5,6,2] #系数水平输入\n"
   ]
  },
  {
   "cell_type": "code",
   "execution_count": 491,
   "metadata": {},
   "outputs": [],
   "source": [
    "#标准型\n",
    "def nomal(or_c,or_b,or_a):\n",
    "    m = len(or_b)\n",
    "    or_p = np.asarray(or_a).reshape(len(or_b),len(or_c)) #原系数矩阵\n",
    "    B = np.matlib.eye(n=m) #初始可行基\n",
    "    b = np.asarray(or_b) #限额系数\n",
    "    X = np.concatenate((np.zeros(len(or_c)),b),axis=0) #初始基可行解\n",
    "    A = np.concatenate((or_p,B),axis=1) #系数矩阵\n",
    "    C = np.concatenate((np.asarray(or_c),np.zeros(m)),axis=0) #价值系数,初始表检验数\n",
    "    return A,C,b,X\n",
    "\n"
   ]
  },
  {
   "cell_type": "code",
   "execution_count": 492,
   "metadata": {},
   "outputs": [],
   "source": [
    "#检验数\n",
    "def check(bA,C,Xi):\n",
    "    i,o=0,0\n",
    "    ck=[]\n",
    "    Xi = [int(k) for k in Xi]\n",
    "    c = [C[g] for g in Xi] #确定基变量系数\n",
    "    c = np.asarray(c)\n",
    "    A = np.delete(bA,0,axis=1)\n",
    "    for a in np.nditer(A, flags = ['external_loop'], order = 'F'):\n",
    "        ck.append(C[o]-np.inner(a,c))\n",
    "        o += 1\n",
    "    return ck,c"
   ]
  },
  {
   "cell_type": "code",
   "execution_count": 493,
   "metadata": {},
   "outputs": [],
   "source": [
    "#确定换出变量和换入变量\n",
    "def outin(check,bA):\n",
    "    i = check.index(max(check))\n",
    "    out = bA[...,i+1]\n",
    "    sita = []\n",
    "    for n in range(len(out)):\n",
    "        if(out[n] >0):\n",
    "            sita.append(bA[...,0][n]/out[n])\n",
    "        elif(out[n] <= 0):\n",
    "            sita.append(inf)\n",
    "    sita = [float(k) for k in sita]\n",
    "    o = sita.index(min(sita))\n",
    "    return i,o         \n"
   ]
  },
  {
   "cell_type": "code",
   "execution_count": 494,
   "metadata": {},
   "outputs": [],
   "source": [
    "#基变换\n",
    "def iteration(i,o,bA,n):\n",
    "    if(bA[o,i] != 1):\n",
    "        E1 = np.matlib.eye(n)\n",
    "        E1[o,...] = E1[o,...]/bA[o,i] #倍乘\n",
    "        bA1 = np.dot(E1,bA)\n",
    "    else:\n",
    "        bA1 = bA\n",
    "    for p in range(len(bA[...,i])):\n",
    "        if(p == o):\n",
    "            continue\n",
    "        elif(bA[p,i] != 0):\n",
    "            E = np.matlib.eye(n)\n",
    "            E0 = np.matlib.zeros((n,n))\n",
    "            E0[p,o] = bA[p,i]\n",
    "            bA1 = np.dot(E-E0,bA1) #倍加\n",
    "    return bA1\n"
   ]
  },
  {
   "cell_type": "code",
   "execution_count": 495,
   "metadata": {},
   "outputs": [],
   "source": [
    "#解的判定\n",
    "def judge(ck,Xi,bA):\n",
    "    co = 0\n",
    "    for i in range(len(ck)):\n",
    "        if(i not in Xi and ck[i] == 0): \n",
    "            try:\n",
    "                raise KeyboardInterrupt\n",
    "            finally:\n",
    "                print('有无穷解')\n",
    "        if(ck[i]>0):\n",
    "            if(sum(bA[...,i+1])<0):\n",
    "                try:\n",
    "                    raise KeyboardInterrupt\n",
    "                finally:\n",
    "                    print('有无界解') \n",
    "            co+=1\n",
    "    return co"
   ]
  },
  {
   "cell_type": "code",
   "execution_count": 496,
   "metadata": {},
   "outputs": [
    {
     "name": "stdout",
     "output_type": "stream",
     "text": [
      "目标函数值为: 8.25\n",
      "最优解为: [15/4 3/4 0 0]\n"
     ]
    }
   ],
   "source": [
    "simplex = nomal(or_c,or_b,or_a)\n",
    "A=simplex[0];C=simplex[1];b=simplex[2];X=simplex[3] #初始化\n",
    "Xi = np.argwhere(X > 0) #初始基变量索引\n",
    "bA = np.insert(A,0,b.T,axis=1) #系数矩阵与b合并\n",
    "C = C.tolist()\n",
    "ck=check(bA,C,Xi)[0] #检验数\n",
    "dj = 0\n",
    "while(True):\n",
    "    co=judge(ck,Xi,bA)\n",
    "    if(co>0):\n",
    "        outi=outin(ck,bA) #出入变量\n",
    "        bA = iteration(outi[0]+1,outi[1],bA,len(b)) #基变换\n",
    "        Xi[outi[1]] = outi[0] #新基变量\n",
    "        ck=check(bA,C,Xi)[0] #检验数\n",
    "    else:\n",
    "        break\n",
    "C = check(bA,C,Xi)[1]\n",
    "Xj = bA[...,0]\n",
    "z = float(np.dot(C,Xj)) #目标函数值\n",
    "print(\"目标函数值为:\",z)\n",
    "X = np.zeros(len(X))\n",
    "for x in range(len(Xi)):\n",
    "    X[int(Xi[x])] = Xj[x]\n",
    "print(\"最优解为:\",X) #最优解"
   ]
  }
 ],
 "metadata": {
  "kernelspec": {
   "display_name": "Python 3.9.13 ('R4.1')",
   "language": "python",
   "name": "python3"
  },
  "language_info": {
   "codemirror_mode": {
    "name": "ipython",
    "version": 3
   },
   "file_extension": ".py",
   "mimetype": "text/x-python",
   "name": "python",
   "nbconvert_exporter": "python",
   "pygments_lexer": "ipython3",
   "version": "3.9.13"
  },
  "orig_nbformat": 4,
  "vscode": {
   "interpreter": {
    "hash": "33ce8eca2b7e8cd286ae47f80833e791449be130417403c9bfcbd82e3f170788"
   }
  }
 },
 "nbformat": 4,
 "nbformat_minor": 2
}
